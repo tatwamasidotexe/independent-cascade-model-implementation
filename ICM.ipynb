{
 "cells": [
  {
   "cell_type": "markdown",
   "metadata": {
    "colab_type": "text",
    "id": "view-in-github"
   },
   "source": [
    "<a href=\"https://colab.research.google.com/github/tatwamasidotexe/independent-cascade-model-implementation/blob/main/ICM.ipynb\" target=\"_parent\"><img src=\"https://colab.research.google.com/assets/colab-badge.svg\" alt=\"Open In Colab\"/></a>"
   ]
  },
  {
   "cell_type": "code",
   "execution_count": 4,
   "metadata": {
    "id": "jXIDmgl4p1fY"
   },
   "outputs": [],
   "source": [
    "import networkx as nx\n",
    "import matplotlib.pyplot as plt\n",
    "import random"
   ]
  },
  {
   "cell_type": "code",
   "execution_count": 8,
   "metadata": {},
   "outputs": [
    {
     "name": "stdout",
     "output_type": "stream",
     "text": [
      "11324\n",
      "11324\n",
      "1661.3740221337785\n"
     ]
    }
   ],
   "source": [
    "%store -r G n c\n",
    "print(len(G))\n",
    "print(n)\n",
    "print(c)"
   ]
  },
  {
   "cell_type": "code",
   "execution_count": 32,
   "metadata": {
    "colab": {
     "base_uri": "https://localhost:8080/",
     "height": 683
    },
    "id": "rCJgiP9BvTuN",
    "outputId": "5eb1b8c2-24c5-4e62-db44-b62cc7cbec1e"
   },
   "outputs": [
    {
     "data": {
      "image/png": "[encoded data removed]",
      "text/plain": [
       "<Figure size 864x864 with 1 Axes>"
      ]
     },
     "metadata": {},
     "output_type": "display_data"
    }
   ],
   "source": [
    "G = nx.watts_strogatz_graph(10, 3, 0.1)\n",
    "pos = nx.circular_layout(G)\n",
    "plt.figure(figsize = (12, 12))\n",
    "nx.draw_networkx(G, pos)"
   ]
  },
  {
   "cell_type": "code",
   "execution_count": 38,
   "metadata": {},
   "outputs": [
    {
     "data": {
      "text/plain": [
       "<dict_keyiterator at 0x27d99cba090>"
      ]
     },
     "execution_count": 38,
     "metadata": {},
     "output_type": "execute_result"
    }
   ],
   "source": [
    "G.neighbors(1)"
   ]
  },
  {
   "cell_type": "code",
   "execution_count": 56,
   "metadata": {
    "id": "-vL7h8YjfT2G"
   },
   "outputs": [],
   "source": [
    "def icm(g, p, new_active):\n",
    "    activated = set()\n",
    "    for node in new_active:\n",
    "      print(\"Node \" + str(node) + \" activating: \")\n",
    "      to_activate = []\n",
    "      if (node not in activated) :\n",
    "          to_activate += g.neighbors(node)\n",
    "      \n",
    "      rand = random.uniform(0, 1) #generates a floating point in [0, 1]\n",
    "      for neighbor in to_activate :\n",
    "        if rand <= p :\n",
    "          activated.add(neighbor)\n",
    "\n",
    "          # this activated neighbor node should activate its unactivated neighbors\n",
    "          if neighbor not in new_active :\n",
    "            new_active.append(neighbor)\n",
    "\n",
    "          print(neighbor)\n",
    "      print()\n",
    "    return (activated)"
   ]
  },
  {
   "cell_type": "code",
   "execution_count": 59,
   "metadata": {
    "colab": {
     "base_uri": "https://localhost:8080/"
    },
    "id": "cmmojtThfYEA",
    "outputId": "4d11049c-2b25-40c7-9610-aae7cb0db5f1"
   },
   "outputs": [
    {
     "name": "stdout",
     "output_type": "stream",
     "text": [
      "Node 1 activating: \n",
      "0\n",
      "2\n",
      "\n",
      "Node 2 activating: \n",
      "\n",
      "Node 8 activating: \n",
      "7\n",
      "9\n",
      "\n",
      "Node 4 activating: \n",
      "3\n",
      "6\n",
      "\n",
      "Node 0 activating: \n",
      "\n",
      "Node 7 activating: \n",
      "\n",
      "Node 9 activating: \n",
      "\n",
      "Node 3 activating: \n",
      "\n",
      "Node 6 activating: \n",
      "\n"
     ]
    },
    {
     "data": {
      "text/plain": [
       "{0, 2, 3, 6, 7, 9}"
      ]
     },
     "execution_count": 59,
     "metadata": {},
     "output_type": "execute_result"
    }
   ],
   "source": [
    "icm(G, 0.5, [1,2,8,4])"
   ]
  },
  {
   "cell_type": "code",
   "execution_count": 24,
   "metadata": {},
   "outputs": [],
   "source": [
    "def max_icm(g, p):\n",
    "    # initialize the maximum activation set\n",
    "    mas = set()\n",
    "    \n",
    "    # keep track of the activated nodes\n",
    "    activated = set()\n",
    "    \n",
    "    while True:\n",
    "        # find the node that would maximize the number of activated nodes if added to the MAS\n",
    "        max_node = None\n",
    "        max_activated = len(activated)\n",
    "        \n",
    "        for node in g.nodes():\n",
    "            if node not in mas:\n",
    "                activated_copy = activated.copy()\n",
    "                to_activate = set(g.neighbors(node))\n",
    "                \n",
    "                # activate the neighbors of the node\n",
    "                for neighbor in to_activate:\n",
    "                    rand = random.uniform(0, 1)\n",
    "                    if rand <= p:\n",
    "                        activated_copy.add(neighbor)\n",
    "                        \n",
    "                # count the number of activated nodes\n",
    "                num_activated = len(activated_copy)\n",
    "                \n",
    "                # update the maximum activation set\n",
    "                if num_activated > max_activated:\n",
    "                    max_node = node\n",
    "                    max_activated = num_activated\n",
    "        \n",
    "        # stop the algorithm if adding a node to the MAS does not increase the number of activated nodes\n",
    "        if max_node is None:\n",
    "            break\n",
    "        \n",
    "        # add the node to the maximum activation set\n",
    "        mas.add(max_node)\n",
    "        \n",
    "        # activate the neighbors of the node\n",
    "        to_activate = set(g.neighbors(max_node))\n",
    "        for neighbor in to_activate:\n",
    "            rand = random.uniform(0, 1)\n",
    "            if rand <= p:\n",
    "                activated.add(neighbor)\n",
    "    \n",
    "    # return the maximum activation set\n",
    "    return mas"
   ]
  },
  {
   "cell_type": "code",
   "execution_count": 25,
   "metadata": {},
   "outputs": [
    {
     "name": "stdout",
     "output_type": "stream",
     "text": [
      "Node 0 activating: \n",
      "1\n",
      "9\n",
      "6\n",
      "\n",
      "Node 1 activating: \n",
      "0\n",
      "9\n",
      "\n",
      "Node 2 activating: \n",
      "3\n",
      "\n",
      "Node 3 activating: \n",
      "2\n",
      "4\n",
      "\n",
      "Node 4 activating: \n",
      "\n",
      "Node 5 activating: \n",
      "4\n",
      "6\n",
      "\n",
      "Node 6 activating: \n",
      "5\n",
      "0\n",
      "\n",
      "Node 9 activating: \n",
      "\n"
     ]
    },
    {
     "data": {
      "text/plain": [
       "{0, 1, 2, 3, 4, 5, 6, 9}"
      ]
     },
     "execution_count": 25,
     "metadata": {},
     "output_type": "execute_result"
    }
   ],
   "source": [
    "icm(G, 0.5, max_icm(G, 0.5))"
   ]
  }
 ],
 "metadata": {
  "colab": {
   "include_colab_link": true,
   "provenance": []
  },
  "kernelspec": {
   "display_name": "Python 3 (ipykernel)",
   "language": "python",
   "name": "python3"
  },
  "language_info": {
   "codemirror_mode": {
    "name": "ipython",
    "version": 3
   },
   "file_extension": ".py",
   "mimetype": "text/x-python",
   "name": "python",
   "nbconvert_exporter": "python",
   "pygments_lexer": "ipython3",
   "version": "3.9.12"
  }
 },
 "nbformat": 4,
 "nbformat_minor": 1
}
